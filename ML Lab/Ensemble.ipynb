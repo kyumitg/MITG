{
 "cells": [
  {
   "cell_type": "code",
   "execution_count": 1,
   "metadata": {},
   "outputs": [
    {
     "name": "stdout",
     "output_type": "stream",
     "text": [
      "Extracting MNIST_data/train-images-idx3-ubyte.gz\n",
      "Extracting MNIST_data/train-labels-idx1-ubyte.gz\n",
      "Extracting MNIST_data/t10k-images-idx3-ubyte.gz\n",
      "Extracting MNIST_data/t10k-labels-idx1-ubyte.gz\n"
     ]
    }
   ],
   "source": [
    "import tensorflow as tf\n",
    "import numpy as np\n",
    "from tensorflow.examples.tutorials.mnist import input_data\n",
    "\n",
    "mnist = input_data.read_data_sets(\"MNIST_data/\",one_hot=True)"
   ]
  },
  {
   "cell_type": "code",
   "execution_count": 13,
   "metadata": {},
   "outputs": [],
   "source": [
    "class Model:\n",
    "    \n",
    "    def __init__(self,sess,name):\n",
    "        self.sess = sess\n",
    "        self.name = name\n",
    "        self._build_net()\n",
    "        \n",
    "    def _build_net(self):\n",
    "        with tf.variable_scope(self.name):\n",
    "            # input place holder\n",
    "            self.X = tf.placeholder(tf.float32, [None,784])\n",
    "            \n",
    "            self.keep_prob = tf.placeholder(tf.float32)\n",
    "            self.training = tf.placeholder(tf.bool)\n",
    "            \n",
    "            # img 28 x 28 x 1(black/white)\n",
    "            X_img = tf.reshape(self.X, [-1, 28, 28, 1])\n",
    "            \n",
    "            # 0~9\n",
    "            self.Y = tf.placeholder(tf.float32, [None,10])\n",
    "            \n",
    "            # L1 Img In Shape = (?,28,28,1)\n",
    "            conv1 = tf.layers.conv2d(inputs=X_img, filters=32, kernel_size=[3,3], padding='SAME', activation=tf.nn.relu)\n",
    "            pool1 = tf.layers.max_pooling2d(inputs=conv1, pool_size=[2,2], strides=2, padding='SAME')\n",
    "            dropout1 = tf.layers.dropout(inputs=pool1, rate=self.keep_prob, training=self.training)\n",
    "\n",
    "            # L2 Img In Shape = (?,14,14,1)\n",
    "            conv2 = tf.layers.conv2d(inputs=dropout1, filters=64, kernel_size=[3,3], padding='SAME', activation=tf.nn.relu)\n",
    "            pool2 = tf.layers.max_pooling2d(inputs=conv2, pool_size=[2,2], strides=2, padding='SAME')\n",
    "            dropout2 = tf.layers.dropout(inputs=pool2, rate=self.keep_prob, training=self.training)\n",
    "\n",
    "            # L3 Img In Shape = (?,7,7,1)\n",
    "            conv3 = tf.layers.conv2d(inputs=dropout2, filters=128, kernel_size=[3,3], padding='SAME', activation=tf.nn.relu)\n",
    "            pool3 = tf.layers.max_pooling2d(inputs=conv3, pool_size=[2,2], strides=2,padding='SAME')\n",
    "            dropout3 = tf.layers.dropout(inputs=pool3, rate=self.keep_prob, training=self.training)\n",
    "\n",
    "            layer = tf.reshape(dropout3, [-1,128*4*4])\n",
    "            \n",
    "            # \n",
    "            W4 = tf.get_variable(\"W4\",shape=[128*4*4,625],initializer=tf.contrib.layers.xavier_initializer())\n",
    "            b4 = tf.Variable(tf.random_normal([625]))\n",
    "            L4 = tf.nn.relu(tf.matmul(layer,W4) + b4)\n",
    "            L4 = tf.nn.dropout(L4, keep_prob=self.keep_prob)\n",
    "\n",
    "            W5 = tf.get_variable(\"W5\",shape=[625,10],initializer=tf.contrib.layers.xavier_initializer())\n",
    "            b5 = tf.Variable(tf.random_normal([10]))\n",
    "            self.hypothesis = tf.matmul(L4,W5)+b5\n",
    "\n",
    "        self.cost = tf.reduce_mean(tf.nn.softmax_cross_entropy_with_logits(logits=self.hypothesis,labels=self.Y))\n",
    "        self.optimizer = tf.train.AdamOptimizer(learning_rate=0.0015).minimize(self.cost)\n",
    "\n",
    "        prediction = tf.equal(tf.argmax(self.hypothesis,1),tf.argmax(self.Y,1))\n",
    "        self.accuracy = tf.reduce_mean(tf.cast(prediction, tf.float32))\n",
    "            \n",
    "            \n",
    "    def prediction(self,x_test,keep_prob=1.0):\n",
    "        return self.sess.run(self.hypothesis,feed_dict={self.X:x_test, self.keep_prob:keep_prob, self.training:False})\n",
    "\n",
    "    def get_accuracy(self,x_test, y_test, keep_prob=1.0):\n",
    "        return self.sess.run(self.accuracy,feed_dict={self.X:x_test,self.Y:y_test,self.keep_prob:keep_prob, self.training:False})\n",
    "\n",
    "    def train(self, x_train, y_train, keep_prob=0.7):\n",
    "        return self.sess.run([self.cost,self.optimizer], feed_dict={self.X:x_train, self.Y:y_train, self.keep_prob:keep_prob, self.training:True})\n"
   ]
  },
  {
   "cell_type": "code",
   "execution_count": 14,
   "metadata": {},
   "outputs": [],
   "source": [
    "tf.reset_default_graph()\n",
    "\n",
    "training_epochs = 15\n",
    "batch_size = 100\n",
    "\n",
    "models = []\n",
    "num_models = 6\n",
    "\n",
    "sess = tf.Session()\n",
    "\n",
    "for m in range(num_models):\n",
    "    models.append(Model(sess,\"model\"+str(m)))\n",
    "\n",
    "#init = tf.group(tf.global_variables_initializer(),tf.local_variables_initializer())\n",
    "sess.run(tf.global_variables_initializer())\n"
   ]
  },
  {
   "cell_type": "code",
   "execution_count": 15,
   "metadata": {
    "scrolled": true
   },
   "outputs": [
    {
     "name": "stdout",
     "output_type": "stream",
     "text": [
      "Epoch :  0001 cost = [ 0.62597504  0.63645738  0.67276016  0.6651895   0.64643619  0.64424733]\n",
      "Epoch :  0002 cost = [ 0.25447358  0.24919691  0.24522438  0.26055225  0.27294251  0.25554156]\n",
      "Epoch :  0003 cost = [ 0.21043509  0.20556418  0.20636098  0.21365405  0.22775251  0.21130497]\n",
      "Epoch :  0004 cost = [ 0.1883496   0.18466272  0.18002822  0.19603202  0.19880734  0.19014246]\n",
      "Epoch :  0005 cost = [ 0.18009201  0.17493964  0.17251407  0.17943334  0.18478007  0.17655075]\n",
      "Epoch :  0006 cost = [ 0.16831243  0.16778671  0.1649102   0.17794784  0.17605095  0.16950436]\n",
      "Epoch :  0007 cost = [ 0.16267668  0.16715226  0.16343248  0.16245999  0.1670017   0.16757156]\n",
      "Epoch :  0008 cost = [ 0.16099456  0.1606795   0.15869848  0.16144221  0.1662918   0.16394776]\n",
      "Epoch :  0009 cost = [ 0.16141117  0.15685447  0.15281362  0.16387178  0.16094825  0.15769541]\n",
      "Epoch :  0010 cost = [ 0.15461947  0.1579871   0.14754788  0.1566767   0.16158759  0.15369106]\n",
      "Epoch :  0011 cost = [ 0.14857391  0.15467592  0.14735555  0.15631322  0.16017271  0.15513008]\n",
      "Epoch :  0012 cost = [ 0.15361513  0.15383909  0.14596001  0.15431405  0.15482945  0.15161789]\n",
      "Epoch :  0013 cost = [ 0.15033643  0.14678747  0.14635276  0.15216121  0.15057472  0.15043624]\n",
      "Epoch :  0014 cost = [ 0.15178553  0.14811504  0.14795783  0.15277219  0.14950549  0.15127217]\n",
      "Epoch :  0015 cost = [ 0.14459855  0.15042952  0.14378183  0.14919261  0.15131996  0.15032935]\n"
     ]
    }
   ],
   "source": [
    "for epoch in range(training_epochs):\n",
    "    avg_cost_list = np.zeros(len(models))\n",
    "    total_batch = int(mnist.train.num_examples / batch_size)\n",
    "    for i in range(total_batch):\n",
    "        batch_xs, batch_ys = mnist.train.next_batch(batch_size)\n",
    "\n",
    "        for m_idx, m in enumerate(models):\n",
    "            c, _ = m.train(batch_xs,batch_ys)\n",
    "            avg_cost_list[m_idx] += c/total_batch\n",
    "\n",
    "    print('Epoch : ', '%04d' % (epoch+1), 'cost =', avg_cost_list)"
   ]
  },
  {
   "cell_type": "code",
   "execution_count": 16,
   "metadata": {},
   "outputs": [],
   "source": [
    "labels = len(mnist.test.labels) #1000\n",
    "prediction = np.zeros(labels*10).reshape(labels,10)"
   ]
  },
  {
   "cell_type": "code",
   "execution_count": 17,
   "metadata": {},
   "outputs": [
    {
     "name": "stdout",
     "output_type": "stream",
     "text": [
      "0 Accuracy :  0.9836\n",
      "1 Accuracy :  0.983\n",
      "2 Accuracy :  0.9881\n",
      "3 Accuracy :  0.9848\n",
      "4 Accuracy :  0.9853\n",
      "5 Accuracy :  0.9874\n",
      "ensemble accuracy :  0.9887\n"
     ]
    }
   ],
   "source": [
    "for m_idx, m in enumerate(models):\n",
    "    print(m_idx, 'Accuracy : ',m.get_accuracy(mnist.test.images,mnist.test.labels))\n",
    "    p = m.prediction(mnist.test.images)\n",
    "    prediction += p\n",
    "\n",
    "ensemble_correct_prediction = tf.equal(tf.argmax(prediction,1), tf.argmax(mnist.test.labels,1))\n",
    "ensemble_accuracy = tf.reduce_mean(tf.cast(ensemble_correct_prediction,tf.float32))\n",
    "print(\"ensemble accuracy : \", sess.run(ensemble_accuracy))"
   ]
  },
  {
   "cell_type": "code",
   "execution_count": null,
   "metadata": {},
   "outputs": [],
   "source": []
  }
 ],
 "metadata": {
  "kernelspec": {
   "display_name": "Python 3",
   "language": "python",
   "name": "python3"
  },
  "language_info": {
   "codemirror_mode": {
    "name": "ipython",
    "version": 3
   },
   "file_extension": ".py",
   "mimetype": "text/x-python",
   "name": "python",
   "nbconvert_exporter": "python",
   "pygments_lexer": "ipython3",
   "version": "3.5.4"
  }
 },
 "nbformat": 4,
 "nbformat_minor": 2
}
