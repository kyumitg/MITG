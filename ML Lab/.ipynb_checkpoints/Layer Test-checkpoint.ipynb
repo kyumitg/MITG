{
 "cells": [
  {
   "cell_type": "code",
   "execution_count": 1,
   "metadata": {},
   "outputs": [],
   "source": [
    "import tensorflow as tf"
   ]
  },
  {
   "cell_type": "markdown",
   "metadata": {},
   "source": [
    "==============================================================\n",
    "\n",
    "W1 = tf.Variable(tf.random_normal([3,3,1,32],stddev=0.01))\n",
    "\n",
    "L1 = tf.nn.conv2d(X_img, W1, strides=[1,1,1,1], padding='SAME')\n",
    "\n",
    "L1 = tf.nn.relu(L1)\n",
    "\n",
    "L1 = tf.nn.max_pool(L1, ksize=[1,2,2,1], strides=[1,2,2,1], padding='SAME')\n",
    "\n",
    "L1 = tf.nn.dropout(L1, keep_prob=0.7)\n"
   ]
  },
  {
   "cell_type": "markdown",
   "metadata": {},
   "source": [
    "=============================================================\n",
    "\n",
    "Layers를 사용\n",
    "\n",
    "training = tf.placeholder(tf.bool)\n",
    "\n",
    "conv1 = tf.layers.conv2d(inputs=X_img, filters=32, kernel_size=[3,3], padding='SAME', activation=tf.nn.relu)\n",
    "\n",
    "pool1 = tf.layers.max_pooling2d(inputs=conv1, pool_size=[2,2], padding='SAME', strides=2)\n",
    "\n",
    "dropout1 = tf.layers.dropout(inputs=pool1, rate=0.7, training=training)\n",
    "\n",
    "=============================================================="
   ]
  },
  {
   "cell_type": "code",
   "execution_count": null,
   "metadata": {},
   "outputs": [],
   "source": [
    "tf.reset_default_graph() \n",
    "\n",
    "Y = tf.placeholder(tf.float32, [None,10])\n",
    "X = tf.placeholder(tf.float32, [None,784])\n",
    "\n",
    "training = tf.placeholder(tf.bool)\n",
    "\n",
    "keep_prob = tf.placeholder(tf.float32)\n",
    "\n",
    "X_img = tf.reshape(X, [-1, 28, 28, 1])\n",
    "\n",
    "# L1 Img In Shape = (?,28,28,1)\n",
    "conv1 = tf.layers.conv2d(inputs=X_img, filters=32, kernel_size=[3,3], padding='SAME', activation=tf.nn.relu)\n",
    "pool1 = tf.layers.max_pooling2d(inputs=conv1, pool_size=[2,2], strides=2, padding='SAME')\n",
    "dropout1 = tf.layers.dropout(inputs=pool1, rate=keep_prob, training=training)\n",
    "\n",
    "# L2 Img In Shape = (?,14,14,1)\n",
    "conv2 = tf.layers.conv2d(inputs=dropout1, filters=64, kernel_size=[3,3], padding='SAME', activation=tf.nn.relu)\n",
    "pool2 = tf.layers.max_pooling2d(inputs=conv2, pool_size=[2,2], strides=2, padding='SAME')\n",
    "dropout2 = tf.layers.dropout(inputs=pool2, rate=keep_prob, training=training)\n",
    "\n",
    "# L3 Img In Shape = (?,7,7,1)\n",
    "conv3 = tf.layers.conv2d(inputs=dropout2, filters=128, kernel_size=[3,3], padding='SAME', activation=tf.nn.relu)\n",
    "pool3 = tf.layers.max_pooling2d(inputs=conv3, pool_size=[2,2], strides=2,padding='SAME')\n",
    "dropout3 = tf.layers.dropout(inputs=pool3, rate=keep_prob, training=training)\n",
    "\n",
    "layer = tf.reshape(dropout3, [-1,128*4*4])\n",
    "\n",
    "# \n",
    "W4 = tf.get_variable(\"W4\",shape=[128*4*4,625],initializer=tf.contrib.layers.xavier_initializer())\n",
    "b4 = tf.Variable(tf.random_normal([625]))\n",
    "L4 = tf.nn.relu(tf.matmul(layer,W4) + b4)\n",
    "L4 = tf.nn.dropout(L4, keep_prob=keep_prob)\n",
    "\n",
    "W5 = tf.get_variable(\"W5\",shape=[625,10],initializer=tf.contrib.layers.xavier_initializer())\n",
    "b5 = tf.Variable(tf.random_normal([10]))\n",
    "hypothesis = tf.matmul(L4,W5)+b5\n",
    "\n",
    "cost = tf.reduce_mean(tf.nn.softmax_cross_entropy_with_logits(logits=hypothesis,labels=Y))\n",
    "optimizer = tf.train.AdamOptimizer(learning_rate=0.001).minimize(cost)\n",
    "\n",
    "sess = tf.Session()\n",
    "sess.run(tf.global_variables_initializer())\n",
    "\n",
    "for epoch in range(training_epochs):\n",
    "    avg_cost = 0\n",
    "    total_batch = int(mnist.train.num_examples / batch_size)\n",
    "    for i in range(total_batch):\n",
    "        batch_xs, batch_ys = mnist.train.next_batch(batch_size)\n",
    "        feed_dict = {X:batch_xs, Y:batch_ys, keep_prob:0.7}\n",
    "        c, _, = sess.run([cost,optimizer], feed_dict=feed_dict)\n",
    "        avg_cost += c/total_batch\n",
    "    print('Epoch : ', '%04d' % (epoch+1), 'cost =', '{:.9f}'.format(avg_cost))"
   ]
  }
 ],
 "metadata": {
  "kernelspec": {
   "display_name": "Python 3",
   "language": "python",
   "name": "python3"
  },
  "language_info": {
   "codemirror_mode": {
    "name": "ipython",
    "version": 3
   },
   "file_extension": ".py",
   "mimetype": "text/x-python",
   "name": "python",
   "nbconvert_exporter": "python",
   "pygments_lexer": "ipython3",
   "version": "3.5.4"
  }
 },
 "nbformat": 4,
 "nbformat_minor": 2
}
