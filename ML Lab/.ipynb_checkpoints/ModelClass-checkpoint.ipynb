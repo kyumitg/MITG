{
 "cells": [
  {
   "cell_type": "code",
   "execution_count": 15,
   "metadata": {},
   "outputs": [],
   "source": [
    "import tensorflow as tf\n",
    "import numpy as np\n",
    "from tensorflow.examples.tutorials.mnist import input_data"
   ]
  },
  {
   "cell_type": "code",
   "execution_count": 16,
   "metadata": {},
   "outputs": [
    {
     "name": "stdout",
     "output_type": "stream",
     "text": [
      "Extracting MNIST_data/train-images-idx3-ubyte.gz\n",
      "Extracting MNIST_data/train-labels-idx1-ubyte.gz\n",
      "Extracting MNIST_data/t10k-images-idx3-ubyte.gz\n",
      "Extracting MNIST_data/t10k-labels-idx1-ubyte.gz\n"
     ]
    }
   ],
   "source": [
    "mnist = input_data.read_data_sets(\"MNIST_data/\",one_hot=True)"
   ]
  },
  {
   "cell_type": "code",
   "execution_count": 72,
   "metadata": {},
   "outputs": [],
   "source": [
    "class Model:\n",
    "    \n",
    "    def __init__(self,sess,name):\n",
    "        self.sess = sess\n",
    "        self.name = name\n",
    "        self._build_net()\n",
    "        \n",
    "    def _build_net(self):\n",
    "        with tf.variable_scope(self.name):\n",
    "            # input place holder\n",
    "            self.X = tf.placeholder(tf.float32, [None,784])\n",
    "            \n",
    "            self.keep_prob = tf.placeholder(tf.float32)\n",
    "            \n",
    "            # img 28 x 28 x 1(black/white)\n",
    "            X_img = tf.reshape(self.X, [-1, 28, 28, 1])\n",
    "            \n",
    "            # 0~9\n",
    "            self.Y = tf.placeholder(tf.float32, [None,10])\n",
    "            \n",
    "            # L1 Img In Shape = (?,28,28,1)\n",
    "            W1 = tf.Variable(tf.random_normal([3,3,1,32],stddev=0.01))\n",
    "            L1 = tf.nn.conv2d(X_img,W1, strides=[1,1,1,1], padding='SAME')\n",
    "            L1 = tf.nn.relu(L1)\n",
    "            L1 = tf.nn.max_pool(L1, ksize=[1,2,2,1], strides=[1,2,2,1], padding='SAME') #stride가 2이기 때문에 14x14가 나온다\n",
    "            L1 = tf.nn.dropout(L1, keep_prob=self.keep_prob)\n",
    "\n",
    "            # L2 Img In Shape = (?,14,14,1)\n",
    "            W2 = tf.Variable(tf.random_normal([3,3,32,64],stddev=0.01))\n",
    "            L2 = tf.nn.conv2d(L1,W2, strides=[1,1,1,1], padding='SAME')\n",
    "            L2 = tf.nn.relu(L2)\n",
    "            L2 = tf.nn.max_pool(L2, ksize=[1,2,2,1], strides=[1,2,2,1], padding='SAME')\n",
    "            L2 = tf.nn.dropout(L2, keep_prob=self.keep_prob)\n",
    "\n",
    "            # L3 Img In Shape = (?,7,7,1)\n",
    "            W3 = tf.Variable(tf.random_normal([3,3,64,128],stddev=0.01))\n",
    "            L3 = tf.nn.conv2d(L2,W3, strides=[1,1,1,1], padding='SAME')\n",
    "            L3 = tf.nn.relu(L3)\n",
    "            L3 = tf.nn.max_pool(L3, ksize=[1,2,2,1], strides=[1,2,2,1], padding='SAME')\n",
    "            L3 = tf.nn.dropout(L3, keep_prob=self.keep_prob)\n",
    "            L3 = tf.reshape(L3, [-1,128*4*4])\n",
    "\n",
    "            # \n",
    "            W4 = tf.get_variable(\"W4\",shape=[128*4*4,625],initializer=tf.contrib.layers.xavier_initializer())\n",
    "            b4 = tf.Variable(tf.random_normal([625]))\n",
    "            L4 = tf.nn.relu(tf.matmul(L3,W4) + b4)\n",
    "            L4 = tf.nn.dropout(L4, keep_prob=self.keep_prob)\n",
    "\n",
    "            W5 = tf.get_variable(\"W5\",shape=[625,10],initializer=tf.contrib.layers.xavier_initializer())\n",
    "            b5 = tf.Variable(tf.random_normal([10]))\n",
    "            self.hypothesis = tf.matmul(L4,W5)+b5\n",
    "\n",
    "        self.cost = tf.reduce_mean(tf.nn.softmax_cross_entropy_with_logits(logits=self.hypothesis,labels=self.Y))\n",
    "        self.optimizer = tf.train.AdamOptimizer(learning_rate=0.001).minimize(self.cost)\n",
    "\n",
    "        prediction = tf.equal(tf.argmax(self.hypothesis,1),tf.argmax(self.Y,1))\n",
    "        self.accuracy = tf.reduce_mean(tf.cast(prediction, tf.float32))\n",
    "            \n",
    "            \n",
    "    def prediction(self,x_test,keep_prob=1.0):\n",
    "        return self.sess.run(self.hypothesis,feed_dict={self.X:x_test, self.keep_prob:keep_prob})\n",
    "\n",
    "    def get_accuracy(self,x_test, y_test, keep_prob=1.0):\n",
    "        return self.sess.run(self.accuracy,feed_dict={self.X:x_test,self.Y:y_test,self.keep_prob:keep_prob})\n",
    "\n",
    "    def train(self, x_train, y_train, keep_prob=0.7):\n",
    "        return self.sess.run([self.cost,self.optimizer], feed_dict={self.X:x_train, self.Y:y_train, self.keep_prob:keep_prob})\n"
   ]
  },
  {
   "cell_type": "code",
   "execution_count": 73,
   "metadata": {},
   "outputs": [],
   "source": [
    "training_epochs = 15\n",
    "batch_size = 100"
   ]
  },
  {
   "cell_type": "code",
   "execution_count": null,
   "metadata": {
    "scrolled": false
   },
   "outputs": [],
   "source": [
    "tf.reset_default_graph()\n",
    "\n",
    "sess = tf.Session()\n",
    "m1 = Model(sess,\"m1\")\n",
    "\n",
    "sess.run(tf.global_variables_initializer())\n",
    "\n",
    "for epoch in range(training_epochs):\n",
    "    avg_cost = 0\n",
    "    total_batch = int(mnist.train.num_examples / batch_size)\n",
    "    for i in range(total_batch):\n",
    "        batch_xs, batch_ys = mnist.train.next_batch(batch_size)\n",
    "        c, _, = m1.train(batch_xs,batch_ys)\n",
    "        avg_cost += c/total_batch\n",
    "    print('Epoch : ', '%04d' % (epoch+1), 'cost =', '{:.9f}'.format(avg_cost))"
   ]
  },
  {
   "cell_type": "code",
   "execution_count": null,
   "metadata": {},
   "outputs": [],
   "source": []
  }
 ],
 "metadata": {
  "kernelspec": {
   "display_name": "Python 3",
   "language": "python",
   "name": "python3"
  },
  "language_info": {
   "codemirror_mode": {
    "name": "ipython",
    "version": 3
   },
   "file_extension": ".py",
   "mimetype": "text/x-python",
   "name": "python",
   "nbconvert_exporter": "python",
   "pygments_lexer": "ipython3",
   "version": "3.5.4"
  }
 },
 "nbformat": 4,
 "nbformat_minor": 2
}
