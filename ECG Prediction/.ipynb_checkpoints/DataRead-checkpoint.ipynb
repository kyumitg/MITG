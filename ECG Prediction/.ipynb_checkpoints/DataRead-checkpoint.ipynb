{
 "cells": [
  {
   "cell_type": "code",
   "execution_count": 1,
   "metadata": {},
   "outputs": [],
   "source": [
    "import numpy\n",
    "import wfdb\n",
    "\n",
    "def LoadData(dataCount,fileFullPath):\n",
    "    sig = numpy.array(numpy.zeros(dataCount),dtype=object)\n",
    "    fields = numpy.array(numpy.zeros(dataCount),dtype=object)\n",
    "    ann = numpy.array(numpy.zeros(dataCount),dtype=object)\n",
    "\n",
    "    for index in range(dataCount):\n",
    "        sig[index], fields[index] = wfdb.rdsamp(fileFullPath + str(index+1))\n",
    "        ann[index] = wfdb.rdann(fileFullPath + str(index+1), 'atr')\n",
    "\n",
    "    FilteredSig = numpy.array(numpy.zeros(dataCount),dtype=object)\n",
    "\n",
    "    for i in range(dataCount):\n",
    "        size = sig[i][:,1].shape[0]\n",
    "        FilteredSig[i] = numpy.array(numpy.zeros(size))\n",
    "        FilteredSig[i] = sig[i][:,1]\n",
    "        \n",
    "    return sig,fields,ann,FilteredSig\n",
    "\n",
    "def GetSingleFilePeak(FilteredSig):\n",
    "    reValue = FilteredSig*FilteredSig*FilteredSig\n",
    "\n",
    "    indexArray = numpy.array(numpy.zeros(100),dtype=int)\n",
    "\n",
    "    index = 0\n",
    "    for i in range(reValue.shape[0]):\n",
    "        if(reValue[i] > 0.1\n",
    "          and (reValue[i] >= reValue[i+1]) and (reValue[i] >= reValue[i-1])):\n",
    "            indexArray[index]=i\n",
    "            index+=1\n",
    "            if(reValue[i] == reValue[i-1]):\n",
    "                index-=1\n",
    "\n",
    "    reShapeIndexArray = indexArray[:index]\n",
    "    return index,reShapeIndexArray"
   ]
  }
 ],
 "metadata": {
  "kernelspec": {
   "display_name": "Python 3",
   "language": "python",
   "name": "python3"
  },
  "language_info": {
   "codemirror_mode": {
    "name": "ipython",
    "version": 3
   },
   "file_extension": ".py",
   "mimetype": "text/x-python",
   "name": "python",
   "nbconvert_exporter": "python",
   "pygments_lexer": "ipython3",
   "version": "3.5.4"
  }
 },
 "nbformat": 4,
 "nbformat_minor": 2
}
